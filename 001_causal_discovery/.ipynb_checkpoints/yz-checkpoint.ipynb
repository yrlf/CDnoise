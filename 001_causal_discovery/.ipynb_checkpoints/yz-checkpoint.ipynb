{
 "cells": [
  {
   "cell_type": "code",
   "execution_count": 1,
   "id": "ef2b8b57-04a4-4ec5-8957-fa3c6a7c27e1",
   "metadata": {
    "pycharm": {
     "name": "#%%\n"
    }
   },
   "outputs": [],
   "source": [
    "import argparse\n",
    "from random import seed\n",
    "from mylib.utils import fix_seed\n",
    "from mylib.data.data_loader import load_ucidata\n",
    "import numpy as np\n",
    "from run_dnl import run_dnl\n",
    "import tools\n",
    "\n",
    "from kmeans import run_kmeans\n",
    "import os\n",
    "import argparse\n",
    "import scipy"
   ]
  },
  {
   "cell_type": "code",
   "execution_count": null,
   "id": "b1b5e10f",
   "metadata": {
    "collapsed": false,
    "jupyter": {
     "outputs_hidden": false
    },
    "pycharm": {
     "name": "#%%\n"
    }
   },
   "outputs": [],
   "source": [
    "# os.chdir('autodl-tmp/code_Yao')\n",
    "# os.getcwd()"
   ]
  },
  {
   "cell_type": "code",
   "execution_count": 2,
   "id": "a81a4f08-4ce0-4520-b257-cd603fe60a02",
   "metadata": {
    "pycharm": {
     "name": "#%%\n"
    }
   },
   "outputs": [],
   "source": [
    "from kmeans import run_kmeans\n",
    "# --- parsing and configuration --- #\n",
    "parser = argparse.ArgumentParser(\n",
    "    description=\"PyTorch implementation of VAE\")\n",
    "parser.add_argument('--batch_size', type=int, default=16,\n",
    "                    help='batch size for training (default: 128)')\n",
    "parser.add_argument('--epochs', type=int, default=10,\n",
    "                    help='number of epochs to train (default: 20)')\n",
    "parser.add_argument('--z_dim', type=int, default=25,\n",
    "                    help='dimension of hidden variable Z (default: 10)')\n",
    "parser.add_argument('--num_hidden_layers', type=int, default=2,\n",
    "                    help='num hidden_layers (default: 0)')\n",
    "parser.add_argument('--flip_rate_fixed', type=float,\n",
    "                    help='fixed flip rates.', default=0.4)\n",
    "parser.add_argument('--train_frac', default=1.0, type=float,\n",
    "                    help='training sample size fraction')\n",
    "parser.add_argument('--noise_type', type=str, default='sym')\n",
    "parser.add_argument('--trainval_split',  default=0.8, type=float,\n",
    "                    help='training set ratio')\n",
    "parser.add_argument('--seed', default=1, type=int,\n",
    "                    help='seed for initializing training')\n",
    "parser.add_argument('--dataset', default=\"krkp\", type=str,\n",
    "                    help='db')\n",
    "parser.add_argument('--select_ratio', default=0, type=float,\n",
    "                    help='confidence example selection ratio')\n",
    "parser.add_argument('--pretrained', default=0, type=int,\n",
    "                    help='using pretrained model or not')\n",
    "\n",
    "arch_dict = {\"FashionMNIST\":\"resnet18\",\"cifar10\":\"resnet18\",\"cifar100\":\"resnet34\",\"mnist\":\"Lenet\",\"balancescale\":\"NaiveNet\",\"krkp\":\"NaiveNet\",\"splice\":\"NaiveNet\",\"yxguassian\":\"NaiveNet\"}"
   ]
  },
  {
   "cell_type": "code",
   "execution_count": 3,
   "id": "14c37b0d-7b9e-4da6-9ae1-c87ba83b60fe",
   "metadata": {
    "pycharm": {
     "name": "#%%\n"
    }
   },
   "outputs": [
    {
     "name": "stdout",
     "output_type": "stream",
     "text": [
      "Namespace(batch_size=16, dataset='krkp', epochs=10, flip_rate_fixed=0.4, noise_type='sym', num_hidden_layers=2, pretrained=0, seed=1, select_ratio=0, train_frac=1.0, trainval_split=0.8, z_dim=25)\n",
      "done\n"
     ]
    }
   ],
   "source": [
    "# load dataset\n",
    "args = parser.parse_args(args=[])\n",
    "base_dir = \"./\"+args.dataset+\"/\"+args.noise_type+str(args.flip_rate_fixed)+\"/\"+str(args.seed)+\"/\"\n",
    "print(args)\n",
    "\n",
    "if args.seed is not None:\n",
    "    fix_seed(args.seed)\n",
    "train_val_loader, train_loader, val_loader, est_loader, test_loader = load_ucidata(\n",
    "    dataset = args.dataset,  \n",
    "    noise_type = args.noise_type,\n",
    "    random_state = args.seed, \n",
    "    batch_size = args.batch_size, \n",
    "    add_noise = True, \n",
    "    flip_rate_fixed = args.flip_rate_fixed, \n",
    "    trainval_split = args.trainval_split,\n",
    "    train_frac = args.train_frac,\n",
    "    augment=False\n",
    ")\n",
    "test_dataset = test_loader.dataset\n",
    "val_dataset = val_loader.dataset\n",
    "\n",
    "train_dataset = train_loader.dataset\n",
    "print(\"done\")"
   ]
  },
  {
   "cell_type": "markdown",
   "id": "eef69d54-3f35-4632-84b1-08b9aa4303e7",
   "metadata": {},
   "source": [
    "# Method 1"
   ]
  },
  {
   "cell_type": "code",
   "execution_count": 62,
   "id": "839431fe-ead1-4f51-bc8a-a93a41186034",
   "metadata": {},
   "outputs": [],
   "source": [
    "import numpy as np\n",
    "import pandas as pd\n",
    "import matplotlib.pyplot as plt\n",
    "\n",
    "from sklearn.cluster import KMeans, DBSCAN\n",
    "from sklearn.metrics import accuracy_score\n",
    "from cal_acc import *\n",
    "from scipy.optimize import linear_sum_assignment\n",
    "from sklearn.decomposition import PCA\n",
    "\n",
    "def _hungarian_match(flat_preds, flat_targets):\n",
    "    # Based on implementation from IIC\n",
    "    num_samples = flat_targets.shape[0]\n",
    "    v, counts = np.unique(flat_preds, return_counts=True)\n",
    "    \n",
    "    num_k = len(v)\n",
    "    num_correct = np.zeros((num_k, num_k))\n",
    "\n",
    "    for c1 in range(num_k):\n",
    "        for c2 in range(num_k):\n",
    "            # elementwise, so each sample contributes once\n",
    "            votes = int(((flat_preds == c1) * (flat_targets == c2)).sum())\n",
    "            num_correct[c1, c2] = votes\n",
    "\n",
    "    row, col  = linear_sum_assignment(num_samples - num_correct)\n",
    "    return row, col \n",
    "\n",
    "def get_prime_Y(noisy_classes, pred_classes, mappings):\n",
    "    prime_Y = np.zeros(len(noisy_classes))\n",
    "    for i in range(len(pred_classes)):\n",
    "        prime_Y[i] = mappings[pred_classes[i]]\n",
    "\n",
    "    return prime_Y\n",
    "\n",
    "def count_m(noisy_Y, prime_Y):\n",
    "    values, counts = np.unique(prime_Y, return_counts=True)\n",
    "    #print(values)\n",
    "    length = len(values)\n",
    "    m = np.zeros((length,length))\n",
    "    #print(counts)\n",
    "\n",
    "    for i in range(noisy_Y.shape[0]):\n",
    "        m[int(prime_Y[i])][int(noisy_Y[i])]+=1\n",
    "\n",
    "    sum_matrix = np.tile(counts,(len(values),1)).transpose()\n",
    "    #print(sum_matrix)\n",
    "    #print(m/sum_matrix)\n",
    "    return m/sum_matrix\n",
    "\n",
    "# define K-means clustering algorithm\n",
    "def run_kmeans2(dataset):\n",
    "\n",
    "    X = dataset.data\n",
    "    clean_Y = dataset.clean_targets\n",
    "    tilde_Y=dataset.targets\n",
    "    values, counts = np.unique(clean_Y,return_counts=True) \n",
    "\n",
    "    kmeans = KMeans(n_clusters=len(values))\n",
    "    kmeans.fit(X, tilde_Y)\n",
    "    identified_clusters = kmeans.fit_predict(X)\n",
    "\n",
    "    # note that to better match the cluster Id to tilde_Y, \n",
    "    # we could use hat_clean Y which obtained by current noise-robust method, but for the simple dataset , it may not necessary\n",
    "    \n",
    "    idx2 = _hungarian_match(identified_clusters,tilde_Y)\n",
    "    prime_Y = get_prime_Y(tilde_Y, identified_clusters,idx2[1])\n",
    "    # yz: directly return prime_Y without using count_m\n",
    "    return prime_Y\n",
    "    "
   ]
  },
  {
   "cell_type": "code",
   "execution_count": 63,
   "id": "33057ca7-a46c-4019-8bd0-abf2d37f0e0d",
   "metadata": {
    "pycharm": {
     "name": "#%%\n"
    }
   },
   "outputs": [],
   "source": [
    "primeY = run_kmeans2(train_dataset.dataset) # primeY is obtained from K-means unsupervised learning -> we use this as esitmated Clean Y"
   ]
  },
  {
   "cell_type": "code",
   "execution_count": 64,
   "id": "696c8836-3b12-4e12-8930-754c74d07d5a",
   "metadata": {
    "pycharm": {
     "name": "#%%\n"
    }
   },
   "outputs": [
    {
     "data": {
      "text/plain": [
       "array([ True,  True,  True, ...,  True, False, False])"
      ]
     },
     "execution_count": 64,
     "metadata": {},
     "output_type": "execute_result"
    }
   ],
   "source": [
    "res = (primeY==train_dataset.dataset.targets)  # check how many labels from the domain (the tilde_Y ) are incorrect by comparing with estimated Clean Y\n",
    "res"
   ]
  },
  {
   "cell_type": "code",
   "execution_count": null,
   "id": "f5ee8011-5fd5-407f-a997-2acca4c2219b",
   "metadata": {},
   "outputs": [],
   "source": [
    "res.to_html()"
   ]
  },
  {
   "cell_type": "code",
   "execution_count": 65,
   "id": "ed4a4a26",
   "metadata": {
    "collapsed": false,
    "jupyter": {
     "outputs_hidden": false
    },
    "pycharm": {
     "name": "#%%\n"
    }
   },
   "outputs": [
    {
     "data": {
      "text/plain": [
       "Counter({True: 1278, False: 1278})"
      ]
     },
     "execution_count": 65,
     "metadata": {},
     "output_type": "execute_result"
    }
   ],
   "source": [
    "import collections\n",
    "collections.Counter(res) # esitmated error rate = 50%"
   ]
  },
  {
   "cell_type": "markdown",
   "id": "0cae4901-f152-49f4-9844-bf9fc1f1f1f6",
   "metadata": {},
   "source": [
    "# Method 2"
   ]
  },
  {
   "cell_type": "code",
   "execution_count": 19,
   "id": "34e23172-bcdb-4334-901f-e61e0e8441c7",
   "metadata": {},
   "outputs": [],
   "source": [
    "from sklearn.decomposition import PCA\n",
    "import matplotlib.pyplot as plt\n",
    "%matplotlib inline"
   ]
  },
  {
   "cell_type": "code",
   "execution_count": 7,
   "id": "859dfdb9-ce34-47cd-876c-43cdcd50ca6b",
   "metadata": {},
   "outputs": [],
   "source": [
    "def runPCA(dataset, n_components):\n",
    "    X = dataset.data\n",
    "    pca = PCA(n_components)\n",
    "    return pca.fit(X)"
   ]
  },
  {
   "cell_type": "code",
   "execution_count": null,
   "id": "4abd01ad-4f39-4ead-9bdf-61199532d99f",
   "metadata": {},
   "outputs": [],
   "source": [
    "# visulize X in 2D\n",
    "\n",
    "pca1 = runPCA(train_dataset.dataset,2)\n",
    "X_new=pca1.transform(train_dataset.dataset.data)\n",
    "X_new = lowX.transform(train_dataset.dataset.data)"
   ]
  },
  {
   "cell_type": "code",
   "execution_count": 29,
   "id": "7e1b0ef2-3c4e-4874-9ab1-40561f14353b",
   "metadata": {},
   "outputs": [
    {
     "data": {
      "image/png": "[encoded data removed]",
      "text/plain": [
       "<Figure size 432x288 with 1 Axes>"
      ]
     },
     "metadata": {
      "needs_background": "light"
     },
     "output_type": "display_data"
    }
   ],
   "source": [
    "plt.scatter(X_new[:, 0], X_new[:, 1],marker='o')\n",
    "plt.show()"
   ]
  },
  {
   "cell_type": "code",
   "execution_count": 28,
   "id": "3d8debad-931f-4b1e-875e-07d70925b8f3",
   "metadata": {},
   "outputs": [
    {
     "data": {
      "text/plain": [
       "array([1, 0, 1, ..., 0, 1, 1])"
      ]
     },
     "execution_count": 28,
     "metadata": {},
     "output_type": "execute_result"
    }
   ],
   "source": [
    "# flip rate 计算\n",
    "train_dataset.dataset.targets"
   ]
  }
 ],
 "metadata": {
  "kernelspec": {
   "display_name": "Python 3 (ipykernel)",
   "language": "python",
   "name": "python3"
  },
  "language_info": {
   "codemirror_mode": {
    "name": "ipython",
    "version": 3
   },
   "file_extension": ".py",
   "mimetype": "text/x-python",
   "name": "python",
   "nbconvert_exporter": "python",
   "pygments_lexer": "ipython3",
   "version": "3.8.10"
  },
  "toc-autonumbering": true,
  "toc-showcode": false,
  "toc-showtags": false
 },
 "nbformat": 4,
 "nbformat_minor": 5
}
